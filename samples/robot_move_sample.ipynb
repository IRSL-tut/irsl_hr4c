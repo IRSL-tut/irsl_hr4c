{
 "cells": [
  {
   "cell_type": "markdown",
   "id": "59c37e60-367d-468f-989c-a49181e5b4b3",
   "metadata": {
    "collapsed": false,
    "jupyter": {
     "outputs_hidden": false
    }
   },
   "source": [
    "# 標準モジュールインポート"
   ]
  },
  {
   "cell_type": "code",
   "execution_count": 1,
   "id": "4e58604c-f0af-4016-a054-d3f58692b658",
   "metadata": {
    "collapsed": false,
    "jupyter": {
     "outputs_hidden": false
    }
   },
   "outputs": [],
   "source": [
    "exec(open('/choreonoid_ws/install/share/irsl_choreonoid/sample/irsl_import.py').read())\n",
    "exec(open('/myapps/models/kohaku_robotinterface.py').read())\n",
    "from irsl_choreonoid_ros.setup_cnoid import SetupCnoid"
   ]
  },
  {
   "cell_type": "markdown",
   "id": "389ec5e6-c7e9-4bab-b58b-420bc94860b6",
   "metadata": {
    "collapsed": false,
    "jupyter": {
     "outputs_hidden": false
    }
   },
   "source": [
    "# ロボットとの接続"
   ]
  },
  {
   "cell_type": "markdown",
   "id": "a335594d-f545-42fa-8779-0304be9ddd08",
   "metadata": {
    "collapsed": false,
    "jupyter": {
     "outputs_hidden": false
    }
   },
   "source": [
    "## ロボットとのインターフェース\n",
    "\n",
    "ロボットを動かすためのオブジェクト。 ri : robot-interface"
   ]
  },
  {
   "cell_type": "code",
   "execution_count": 2,
   "id": "428f05b8-b956-4176-82f8-e264354b3b3e",
   "metadata": {
    "collapsed": false,
    "jupyter": {
     "outputs_hidden": false
    }
   },
   "outputs": [
    {
     "data": {
      "text/plain": [
       "loading model from /myapps/models/kohaku_dualarm.body\n",
       "joint: [{'name': 'leftarm', 'topic': '/kohaku_leftarm/follow_joint_trajectory', 'type': 'action', 'joint_names': ['left_shoulder_yaw', 'left_shoulder_pitch', 'left_elbow_pitch', 'left_wrist_yaw', 'left_wrist_pitch', 'left_hand_yaw']}, {'name': 'rightarm', 'topic': '/kohaku_rightarm/follow_joint_trajectory', 'type': 'action', 'joint_names': ['right_shoulder_yaw', 'right_shoulder_pitch', 'right_elbow_pitch', 'right_wrist_yaw', 'right_wrist_pitch', 'right_hand_yaw']}, {'name': 'default', 'type': 'combined', 'groups': ['leftarm', 'rightarm']}, {'name': 'righthand', 'topic': '/kohaku_righthand/command', 'type': 'command', 'joint_names': ['right_l_finger_joint', 'right_r_finger_joint']}, {'name': 'lefthand', 'topic': '/kohaku_lefthand/command', 'type': 'command', 'joint_names': ['left_l_finger_joint', 'left_r_finger_joint']}]\n",
       "devices: [{'topic': '/joint_states', 'class': 'JointState', 'name': 'joint_state'}]"
      ]
     },
     "execution_count": 2,
     "metadata": {},
     "output_type": "execute_result"
    }
   ],
   "source": [
    "#ri = RobotInterface('/myapps/models/kohaku_robotinterface.yaml')\n",
    "#ri = RobotInterface('/myapps/models/kohaku_robotinterface.yaml', connection=False)\n",
    "ri = KohakuInterface('/myapps/models/kohaku_robotinterface.yaml')"
   ]
  },
  {
   "cell_type": "markdown",
   "id": "ed9027eb-9a4a-45b0-a629-224ec928338d",
   "metadata": {
    "collapsed": false,
    "jupyter": {
     "outputs_hidden": false
    }
   },
   "source": [
    "## ロボットのモデル\n",
    "\n",
    "ロボットへ指示を送るための動作計画と目視確認用のロボット形状。 robot : robot-model in window"
   ]
  },
  {
   "cell_type": "code",
   "execution_count": 3,
   "id": "723c7e31-eabb-4cb0-8938-47002f029a07",
   "metadata": {
    "collapsed": false,
    "jupyter": {
     "outputs_hidden": false
    }
   },
   "outputs": [
    {
     "data": {
      "text/plain": [
       "<irsl_choreonoid_ros.setup_cnoid.SetupCnoid object at 0x7fbc764cd760>"
      ]
     },
     "execution_count": 3,
     "metadata": {},
     "output_type": "execute_result"
    }
   ],
   "source": [
    "robot = ri.getRobotModel()\n",
    "SetupCnoid.setEnvironmentFromYaml('package://irsl_sim_environments/cnoid/world/puzzle_blocks.yaml', setCamera=False, offset=coordinates(fv(0.3,0,0)))"
   ]
  },
  {
   "cell_type": "markdown",
   "id": "1c2be7bb-9967-4fb5-ba61-574c65f96c11",
   "metadata": {
    "collapsed": false,
    "jupyter": {
     "outputs_hidden": false
    }
   },
   "source": [
    "# モデルを変更する"
   ]
  },
  {
   "cell_type": "markdown",
   "id": "1368eaef",
   "metadata": {
    "collapsed": false,
    "jupyter": {
     "outputs_hidden": false
    }
   },
   "source": [
    "## 既知のポーズを設定"
   ]
  },
  {
   "cell_type": "code",
   "execution_count": 4,
   "id": "c7078619-a02d-4a11-8624-a33dece66f54",
   "metadata": {
    "collapsed": false,
    "jupyter": {
     "outputs_hidden": false
    }
   },
   "outputs": [],
   "source": [
    "robot.setManipPose()"
   ]
  },
  {
   "cell_type": "markdown",
   "id": "e3cdac50-c4f2-4e09-9094-9cecf0144ea1",
   "metadata": {
    "collapsed": false,
    "jupyter": {
     "outputs_hidden": false
    }
   },
   "source": [
    "## 関節を動かす"
   ]
  },
  {
   "cell_type": "markdown",
   "id": "fd367280-45b4-4062-a5fd-259fdebaf7cc",
   "metadata": {
    "collapsed": false,
    "jupyter": {
     "outputs_hidden": false
    }
   },
   "source": [
    "### 関節の名前"
   ]
  },
  {
   "cell_type": "code",
   "execution_count": 5,
   "id": "5d716e5a-814b-4ec8-a74b-c57c43319af2",
   "metadata": {
    "collapsed": false,
    "jupyter": {
     "outputs_hidden": false
    }
   },
   "outputs": [
    {
     "data": {
      "text/plain": [
       "['left_shoulder_yaw', 'left_shoulder_pitch', 'left_elbow_pitch', 'left_wrist_yaw', 'left_wrist_pitch', 'left_hand_yaw', 'left_r_finger_joint', 'left_l_finger_joint', 'right_shoulder_yaw', 'right_shoulder_pitch', 'right_elbow_pitch', 'right_wrist_yaw', 'right_wrist_pitch', 'right_hand_yaw', 'right_r_finger_joint', 'right_l_finger_joint']"
      ]
     },
     "execution_count": 5,
     "metadata": {},
     "output_type": "execute_result"
    }
   ],
   "source": [
    "robot.jointNames"
   ]
  },
  {
   "cell_type": "markdown",
   "id": "760250ca-713d-4c41-a9cf-7108e9cfc601",
   "metadata": {
    "collapsed": false,
    "jupyter": {
     "outputs_hidden": false
    }
   },
   "source": [
    "### 関節の角度"
   ]
  },
  {
   "cell_type": "code",
   "execution_count": 6,
   "id": "f7329ad8-9b05-4ea8-b49e-e1f15b6cd09b",
   "metadata": {
    "collapsed": false,
    "jupyter": {
     "outputs_hidden": false
    }
   },
   "outputs": [
    {
     "data": {
      "text/plain": [
       "2.0943951023931953"
      ]
     },
     "execution_count": 6,
     "metadata": {},
     "output_type": "execute_result"
    }
   ],
   "source": [
    "robot.jointAngle('left_elbow_pitch')"
   ]
  },
  {
   "cell_type": "markdown",
   "id": "464df8da-d5eb-4fc4-84d4-656c0f3b9175",
   "metadata": {
    "collapsed": false,
    "jupyter": {
     "outputs_hidden": false
    }
   },
   "source": [
    "### 関節角度の設定"
   ]
  },
  {
   "cell_type": "code",
   "execution_count": 7,
   "id": "f397950a-6554-4ee1-8802-c50542ca820b",
   "metadata": {
    "collapsed": false,
    "jupyter": {
     "outputs_hidden": false
    }
   },
   "outputs": [
    {
     "data": {
      "text/plain": [
       "0.0"
      ]
     },
     "execution_count": 7,
     "metadata": {},
     "output_type": "execute_result"
    }
   ],
   "source": [
    "robot.jointAngle('left_shoulder_pitch', 0.0)"
   ]
  },
  {
   "cell_type": "markdown",
   "id": "b22d3f04",
   "metadata": {
    "collapsed": false,
    "jupyter": {
     "outputs_hidden": false
    }
   },
   "source": [
    "### 辞書型での関節角度の設定"
   ]
  },
  {
   "cell_type": "code",
   "execution_count": 9,
   "id": "72045384",
   "metadata": {
    "collapsed": false,
    "jupyter": {
     "outputs_hidden": false
    }
   },
   "outputs": [
    {
     "data": {
      "text/plain": [
       "True"
      ]
     },
     "execution_count": 9,
     "metadata": {},
     "output_type": "execute_result"
    }
   ],
   "source": [
    "robot.setAngleMap({'left_shoulder_yaw': 0.0, 'left_elbow_pitch': 0.0})"
   ]
  },
  {
   "cell_type": "markdown",
   "id": "8024629f-b455-47ad-a31d-e5a7b99021e5",
   "metadata": {
    "collapsed": false,
    "jupyter": {
     "outputs_hidden": false
    }
   },
   "source": [
    "### 関節角度のベクトル（全身）"
   ]
  },
  {
   "cell_type": "code",
   "execution_count": 10,
   "id": "73902ab1-8d70-4246-9968-c59c8bd48752",
   "metadata": {
    "collapsed": false,
    "jupyter": {
     "outputs_hidden": false
    }
   },
   "outputs": [
    {
     "data": {
      "text/plain": [
       "array([ 0.        ,  0.        ,  0.        ,  0.        ,  0.52359878,\n",
       "        0.        ,  0.        ,  0.        , -0.52359878,  0.52359878,\n",
       "        2.0943951 ,  0.        ,  0.52359878,  0.        ,  0.        ,\n",
       "        0.        ])"
      ]
     },
     "execution_count": 10,
     "metadata": {},
     "output_type": "execute_result"
    }
   ],
   "source": [
    "robot.angleVector()"
   ]
  },
  {
   "cell_type": "markdown",
   "id": "dbc43b91",
   "metadata": {
    "collapsed": false,
    "jupyter": {
     "outputs_hidden": false
    }
   },
   "source": [
    "### 関節角度のベクトルのセット（全身）"
   ]
  },
  {
   "cell_type": "code",
   "execution_count": 11,
   "id": "2290d8e4",
   "metadata": {
    "collapsed": false,
    "jupyter": {
     "outputs_hidden": false
    }
   },
   "outputs": [],
   "source": [
    "vec = robot.angleVector()\n",
    "vec[0] = 0.5\n",
    "robot.angleVector(vec)"
   ]
  },
  {
   "cell_type": "markdown",
   "id": "906ad449-ebc6-4a5c-9dff-6167c32972c0",
   "metadata": {
    "collapsed": false,
    "jupyter": {
     "outputs_hidden": false
    }
   },
   "source": [
    "## 片腕のみを動かす"
   ]
  },
  {
   "cell_type": "markdown",
   "id": "358e79b1",
   "metadata": {
    "collapsed": false,
    "jupyter": {
     "outputs_hidden": false
    }
   },
   "source": [
    "### 名前"
   ]
  },
  {
   "cell_type": "code",
   "execution_count": 12,
   "id": "9b732b3f",
   "metadata": {
    "collapsed": false,
    "jupyter": {
     "outputs_hidden": false
    }
   },
   "outputs": [
    {
     "data": {
      "text/plain": [
       "['left_shoulder_yaw', 'left_shoulder_pitch', 'left_elbow_pitch', 'left_wrist_yaw', 'left_wrist_pitch', 'left_hand_yaw']"
      ]
     },
     "execution_count": 12,
     "metadata": {},
     "output_type": "execute_result"
    }
   ],
   "source": [
    "robot.larm.jointNames"
   ]
  },
  {
   "cell_type": "markdown",
   "id": "3da83afb",
   "metadata": {
    "collapsed": false,
    "jupyter": {
     "outputs_hidden": false
    }
   },
   "source": [
    "### ニックネーム"
   ]
  },
  {
   "cell_type": "code",
   "execution_count": 14,
   "id": "4a5740e9",
   "metadata": {
    "collapsed": false,
    "jupyter": {
     "outputs_hidden": false
    }
   },
   "outputs": [
    {
     "data": {
      "text/plain": [
       "{'shoulder-y': 'left_shoulder_yaw', 'shoulder-p': 'left_shoulder_pitch', 'elbow-p': 'left_elbow_pitch', 'wrist-y': 'left_wrist_yaw', 'wrist-p': 'left_wrist_pitch', 'hand-y': 'left_hand_yaw'}"
      ]
     },
     "execution_count": 14,
     "metadata": {},
     "output_type": "execute_result"
    }
   ],
   "source": [
    "robot.larm.renameMap"
   ]
  },
  {
   "cell_type": "markdown",
   "id": "6bb7a87d",
   "metadata": {
    "collapsed": false,
    "jupyter": {
     "outputs_hidden": false
    }
   },
   "source": [
    "### 関節角度各種"
   ]
  },
  {
   "cell_type": "code",
   "execution_count": 15,
   "id": "01df8e80-6f6f-48e7-850e-454b8a82be9c",
   "metadata": {
    "collapsed": false,
    "jupyter": {
     "outputs_hidden": false
    }
   },
   "outputs": [
    {
     "data": {
      "text/plain": [
       "array([0.5       , 0.        , 0.        , 0.        , 0.52359878,\n",
       "       0.        ])"
      ]
     },
     "execution_count": 15,
     "metadata": {},
     "output_type": "execute_result"
    }
   ],
   "source": [
    "robot.larm.angleVector()"
   ]
  },
  {
   "cell_type": "code",
   "execution_count": 16,
   "id": "57d70c88-ed7c-423a-9a94-f9cc0c6f49f6",
   "metadata": {
    "collapsed": false,
    "jupyter": {
     "outputs_hidden": false
    }
   },
   "outputs": [
    {
     "data": {
      "text/plain": [
       "array([-0.52359878,  0.52359878,  2.0943951 ,  0.        ,  0.52359878,\n",
       "        0.        ])"
      ]
     },
     "execution_count": 16,
     "metadata": {},
     "output_type": "execute_result"
    }
   ],
   "source": [
    "robot.rarm.angleVector()"
   ]
  },
  {
   "cell_type": "code",
   "execution_count": 17,
   "id": "b2a15106-ee1d-4ab5-bc94-6d3fd05d7e01",
   "metadata": {
    "collapsed": false,
    "jupyter": {
     "outputs_hidden": false
    }
   },
   "outputs": [
    {
     "data": {
      "text/plain": [
       "0.5"
      ]
     },
     "execution_count": 17,
     "metadata": {},
     "output_type": "execute_result"
    }
   ],
   "source": [
    "robot.larm.jointAngle('shoulder-y')"
   ]
  },
  {
   "cell_type": "code",
   "execution_count": 18,
   "id": "5214f4d7-809f-4107-8a92-dccd87ff5b27",
   "metadata": {
    "collapsed": false,
    "jupyter": {
     "outputs_hidden": false
    }
   },
   "outputs": [
    {
     "data": {
      "text/plain": [
       "-0.5235987755982988"
      ]
     },
     "execution_count": 18,
     "metadata": {},
     "output_type": "execute_result"
    }
   ],
   "source": [
    "robot.rarm.jointAngle('shoulder-y')"
   ]
  },
  {
   "cell_type": "code",
   "execution_count": 19,
   "id": "9d780d8b-4f63-4eb9-9794-7ea0629068dc",
   "metadata": {
    "collapsed": false,
    "jupyter": {
     "outputs_hidden": false
    }
   },
   "outputs": [
    {
     "data": {
      "text/plain": [
       "True"
      ]
     },
     "execution_count": 19,
     "metadata": {},
     "output_type": "execute_result"
    }
   ],
   "source": [
    "robot.rarm.setAngleMap({'shoulder-y': 0.0, 'elbow-p': 0.0})"
   ]
  },
  {
   "cell_type": "code",
   "execution_count": 20,
   "id": "9c585f35-d231-4088-8885-dd94b76bb362",
   "metadata": {
    "collapsed": false,
    "jupyter": {
     "outputs_hidden": false
    }
   },
   "outputs": [
    {
     "data": {
      "text/plain": [
       "array([0.5       , 0.52359878, 0.        , 0.        , 0.52359878,\n",
       "       0.        ])"
      ]
     },
     "execution_count": 20,
     "metadata": {},
     "output_type": "execute_result"
    }
   ],
   "source": [
    "vec=robot.rarm.angleVector()\n",
    "vec[0]=0.5\n",
    "robot.rarm.angleVector(vec)"
   ]
  },
  {
   "cell_type": "code",
   "execution_count": 25,
   "id": "5c346b98-7cb6-4ec2-aa52-d45a40d516d4",
   "metadata": {},
   "outputs": [],
   "source": [
    "robot.setManipPose()"
   ]
  },
  {
   "cell_type": "markdown",
   "id": "7a2ce2b6-9fbb-4e2f-8a9f-130d2b5a3c71",
   "metadata": {
    "collapsed": false,
    "jupyter": {
     "outputs_hidden": false
    }
   },
   "source": [
    "## 手先座標を指定して動かす"
   ]
  },
  {
   "cell_type": "markdown",
   "id": "25426484-8532-4f0b-8f72-9ec6b406630c",
   "metadata": {
    "collapsed": false,
    "jupyter": {
     "outputs_hidden": false
    }
   },
   "source": [
    "### 表示用のインターフェース"
   ]
  },
  {
   "cell_type": "code",
   "execution_count": 21,
   "id": "cb4b2efe-5c90-4cd0-8f90-cc4b7b206943",
   "metadata": {
    "collapsed": false,
    "jupyter": {
     "outputs_hidden": false
    }
   },
   "outputs": [],
   "source": [
    "di=DrawInterface()"
   ]
  },
  {
   "cell_type": "markdown",
   "id": "95f16e9b-bec9-47eb-8c33-c3001dbb0d0d",
   "metadata": {
    "collapsed": false,
    "jupyter": {
     "outputs_hidden": false
    }
   },
   "source": [
    "### 目標座標系"
   ]
  },
  {
   "cell_type": "code",
   "execution_count": 22,
   "id": "d8166fa2-a475-4af5-ba03-b44f3e8634dd",
   "metadata": {
    "collapsed": false,
    "jupyter": {
     "outputs_hidden": false
    }
   },
   "outputs": [],
   "source": [
    "tgt=mkshapes.makeCoords(length=0.15)"
   ]
  },
  {
   "cell_type": "markdown",
   "id": "07b066f8-927c-4c85-bc32-67cff3abc563",
   "metadata": {
    "collapsed": false,
    "jupyter": {
     "outputs_hidden": false
    }
   },
   "source": [
    "### 座標系の設定"
   ]
  },
  {
   "cell_type": "code",
   "execution_count": 26,
   "id": "122c3767-0c56-4822-91ca-d99ec756cfb7",
   "metadata": {
    "collapsed": false,
    "jupyter": {
     "outputs_hidden": false
    }
   },
   "outputs": [
    {
     "data": {
      "text/plain": [
       "Wrap: <coordinates[0x559881cc6af0] 0.201526 0.289964 0.333036 / 0.000135229 2.04987e-09 0.258819 0.965926 > | <cnoid.Util.SgPosTransform object at 0x7fbbbf54c930>"
      ]
     },
     "execution_count": 26,
     "metadata": {},
     "output_type": "execute_result"
    }
   ],
   "source": [
    "tgt.newcoords(robot.larm.endEffector)"
   ]
  },
  {
   "cell_type": "markdown",
   "id": "8360ad77-69c0-46bf-acbf-6cab15ed5951",
   "metadata": {
    "collapsed": false,
    "jupyter": {
     "outputs_hidden": false
    }
   },
   "source": [
    "### 座標系の表示"
   ]
  },
  {
   "cell_type": "code",
   "execution_count": 24,
   "id": "1477b3a2-a186-41f8-8e33-160b2b864542",
   "metadata": {
    "collapsed": false,
    "jupyter": {
     "outputs_hidden": false
    }
   },
   "outputs": [],
   "source": [
    "di.addObject(tgt)"
   ]
  },
  {
   "cell_type": "markdown",
   "id": "62bf3fc6-7188-49f1-8dba-83d3d182f780",
   "metadata": {
    "collapsed": false,
    "jupyter": {
     "outputs_hidden": false
    }
   },
   "source": [
    "### 座標系の移動"
   ]
  },
  {
   "cell_type": "code",
   "execution_count": 27,
   "id": "0515fd2b-d908-451c-8b41-200c5fdd1ec1",
   "metadata": {
    "collapsed": false,
    "jupyter": {
     "outputs_hidden": false
    }
   },
   "outputs": [
    {
     "data": {
      "text/plain": [
       "Wrap: <coordinates[0x559881cc6af0] 0.201526 0.289964 0.433036 / 0.000135229 2.04987e-09 0.258819 0.965926 > | <cnoid.Util.SgPosTransform object at 0x7fbbbf54c930>"
      ]
     },
     "execution_count": 27,
     "metadata": {},
     "output_type": "execute_result"
    }
   ],
   "source": [
    "tgt.translate(npa([0, 0, 0.1]), coordinates.wrt.world)"
   ]
  },
  {
   "cell_type": "markdown",
   "id": "388e3804-5cbb-4845-879c-bad1bbebc071",
   "metadata": {
    "collapsed": false,
    "jupyter": {
     "outputs_hidden": false
    }
   },
   "source": [
    "### 逆運動学\n",
    "目標座標系と手先座標系が一致するような関節角度を求める"
   ]
  },
  {
   "cell_type": "code",
   "execution_count": 28,
   "id": "f11ff836-6743-4007-8e3f-e923639c5e68",
   "metadata": {
    "collapsed": false,
    "jupyter": {
     "outputs_hidden": false
    }
   },
   "outputs": [
    {
     "data": {
      "text/plain": [
       "(True, 3)"
      ]
     },
     "execution_count": 28,
     "metadata": {},
     "output_type": "execute_result"
    }
   ],
   "source": [
    "robot.larm.inverseKinematics(tgt, constraint='xyzRPY')"
   ]
  },
  {
   "cell_type": "markdown",
   "id": "4478caec-1292-4a86-82f3-0d42cccf299c",
   "metadata": {
    "collapsed": false,
    "jupyter": {
     "outputs_hidden": false
    }
   },
   "source": [
    "# 実機（シミュレーション）を動かす"
   ]
  },
  {
   "cell_type": "markdown",
   "id": "45e9a5eb-292b-41d8-a1c5-9d30205583db",
   "metadata": {
    "collapsed": false,
    "jupyter": {
     "outputs_hidden": false
    }
   },
   "source": [
    "## 実機の関節角度をモデルに反映する"
   ]
  },
  {
   "cell_type": "code",
   "execution_count": 29,
   "id": "10cf3133-4da6-4221-ad1c-78da3da89149",
   "metadata": {
    "collapsed": false,
    "jupyter": {
     "outputs_hidden": false
    }
   },
   "outputs": [],
   "source": [
    "robot.angleVector(ri.actualAngleVector)"
   ]
  },
  {
   "cell_type": "markdown",
   "id": "1e09b854-43f8-4a1f-abbd-ca58ea3b8e56",
   "metadata": {
    "collapsed": false,
    "jupyter": {
     "outputs_hidden": false
    }
   },
   "source": [
    "## 関節のグループ"
   ]
  },
  {
   "cell_type": "code",
   "execution_count": 30,
   "id": "785deac1-8812-4a6f-94c9-96ac5d14f861",
   "metadata": {
    "collapsed": false,
    "jupyter": {
     "outputs_hidden": false
    }
   },
   "outputs": [
    {
     "data": {
      "text/plain": [
       "['leftarm', 'rightarm', 'default', 'righthand', 'lefthand']"
      ]
     },
     "execution_count": 30,
     "metadata": {},
     "output_type": "execute_result"
    }
   ],
   "source": [
    "ri.jointGroupNames"
   ]
  },
  {
   "cell_type": "markdown",
   "id": "bcc84023-97cc-4b73-81fc-2b78e704cb0c",
   "metadata": {
    "collapsed": false,
    "jupyter": {
     "outputs_hidden": false
    }
   },
   "source": [
    "## モデルの関節角度を実機に送る\n",
    "指定した時間でモデル姿勢と実機姿勢が一致するように動く。\n",
    "\n",
    "tm = 3.0 : 時間の指定（この場合は3秒）"
   ]
  },
  {
   "cell_type": "code",
   "execution_count": 31,
   "id": "a4634d21-d451-4a12-95f7-8974a48d33ce",
   "metadata": {
    "collapsed": false,
    "jupyter": {
     "outputs_hidden": false
    }
   },
   "outputs": [],
   "source": [
    "ri.sendAngleVector(robot.angleVector(), tm=3.0)\n",
    "ri.waitUntilFinish()"
   ]
  },
  {
   "cell_type": "markdown",
   "id": "16173e4b",
   "metadata": {
    "collapsed": false,
    "jupyter": {
     "outputs_hidden": false
    }
   },
   "source": [
    "## モデルの関節角度を実機に送る(部分)\n",
    "\n",
    "グループ単位で指令を送る。sendとwaitのグループ名を合わせる。\n",
    "\n",
    "ri.sendAngleVector(vector, group='groupname')\n",
    "\n",
    "ri.waitUntilFinish(group='groupname')"
   ]
  },
  {
   "cell_type": "code",
   "execution_count": 32,
   "id": "88c34e4e",
   "metadata": {
    "collapsed": false,
    "jupyter": {
     "outputs_hidden": false
    }
   },
   "outputs": [],
   "source": [
    "ri.sendAngleVector(robot.angleVector(), tm=3.0, group='rightarm')\n",
    "ri.waitUntilFinish(group='rightarm')"
   ]
  },
  {
   "cell_type": "markdown",
   "id": "70efb92b-6874-4259-a469-1640b88ff075",
   "metadata": {
    "collapsed": false,
    "jupyter": {
     "outputs_hidden": false
    }
   },
   "source": [
    "## グリッパーを動かす（実機の確認が必要）"
   ]
  },
  {
   "cell_type": "code",
   "execution_count": 38,
   "id": "6a354955-94f4-413c-aa92-5d2269de1f8c",
   "metadata": {
    "collapsed": false,
    "jupyter": {
     "outputs_hidden": false
    }
   },
   "outputs": [],
   "source": [
    "ri.grasp('left', -0.1)"
   ]
  },
  {
   "cell_type": "code",
   "execution_count": 37,
   "id": "fe8fc2f9-84b7-4c61-91ae-5860b2947337",
   "metadata": {
    "collapsed": false,
    "jupyter": {
     "outputs_hidden": false
    }
   },
   "outputs": [],
   "source": [
    "ri.ungrasp('left')"
   ]
  },
  {
   "cell_type": "markdown",
   "id": "40431ec5-067a-49f5-82db-63cb24a15840",
   "metadata": {},
   "source": [
    "## シミュレーションの操作"
   ]
  },
  {
   "cell_type": "code",
   "execution_count": 39,
   "id": "af88907e-675e-45f4-b7f9-6ed749f8628f",
   "metadata": {},
   "outputs": [],
   "source": [
    "robot.setManipPose()"
   ]
  },
  {
   "cell_type": "code",
   "execution_count": 40,
   "id": "8caf6b54-cc59-4091-9d2a-80555c179689",
   "metadata": {},
   "outputs": [],
   "source": [
    "ri.sendAngleVector(robot.angleVector(), tm=3.0)\n",
    "ri.waitUntilFinish()"
   ]
  },
  {
   "cell_type": "markdown",
   "id": "97029b1d-4b06-4e22-9ea6-63842035154b",
   "metadata": {},
   "source": [
    "ここでjupyter外で、モデルを出す\n",
    "（ターミナルで以下を実行）\n",
    "\n",
    "rosrun irsl_sim_environments spawn_scripts.sh"
   ]
  },
  {
   "cell_type": "code",
   "execution_count": 41,
   "id": "12caf90c-87d2-4923-b62d-b633e6fcb0cd",
   "metadata": {},
   "outputs": [],
   "source": [
    "tgt_cyan   = coordinates(fv(0.33, 0.2, 0.09))\n",
    "tgt_yellow = coordinates(fv(0.27, 0.1, 0.09))\n",
    "tgt_red    = coordinates(fv(0.4, 0.1, 0.09), fv(0, 0, -math.sqrt(0.5), math.sqrt(0.5)))\n",
    "tgt_purple = coordinates(fv(0.43, 0.0, 0.09))\n",
    "tgt_lg     = coordinates(fv(0.40, -0.1, 0.09))\n",
    "tgt_green  = coordinates(fv(0.27, -0.13, 0.09))\n",
    "tgt_brown  = coordinates(fv(0.33, -0.20, 0.09))"
   ]
  },
  {
   "cell_type": "code",
   "execution_count": 42,
   "id": "84157c12-e391-4c27-94e6-f3a7452316d6",
   "metadata": {},
   "outputs": [
    {
     "data": {
      "text/plain": [
       "(True, 7)"
      ]
     },
     "execution_count": 42,
     "metadata": {},
     "output_type": "execute_result"
    }
   ],
   "source": [
    "robot.larm.inverseKinematics(tgt_cyan, constraint='xyzRPY')\n",
    "ri.sendAngleVector(robot.angleVector(), tm=3.0)\n",
    "ri.waitUntilFinish()"
   ]
  },
  {
   "cell_type": "code",
   "execution_count": 43,
   "id": "972e10c9-627f-4277-8f61-89c73fa98109",
   "metadata": {},
   "outputs": [],
   "source": [
    "ri.grasp('left', 0.4)"
   ]
  },
  {
   "cell_type": "code",
   "execution_count": 45,
   "id": "10742606-6465-4789-91aa-7de69e18dfdb",
   "metadata": {},
   "outputs": [
    {
     "data": {
      "text/plain": [
       "<coordinates[0x55987a5a65b0] 0.329999 0.2 0.0500003 / -1.32657e-07 -9.3856e-08 -4.8707e-06 1 >\n",
       "\n",
       "(True, 2)"
      ]
     },
     "execution_count": 45,
     "metadata": {},
     "output_type": "execute_result"
    }
   ],
   "source": [
    "tgt=robot.larm.endEffector\n",
    "tgt.translate(fv(0, 0, -0.04))\n",
    "robot.larm.inverseKinematics(tgt, constraint='xyzRPY')\n",
    "ri.sendAngleVector(robot.angleVector(), tm=1.0)\n",
    "ri.waitUntilFinish()"
   ]
  },
  {
   "cell_type": "code",
   "execution_count": 46,
   "id": "53c107d5-7e56-40b2-9033-badb7b354a19",
   "metadata": {},
   "outputs": [],
   "source": [
    "ri.grasp('left', 0.04)"
   ]
  },
  {
   "cell_type": "code",
   "execution_count": 47,
   "id": "7b0510f8-102a-4102-8bd7-30c5ef6b6e12",
   "metadata": {},
   "outputs": [
    {
     "data": {
      "text/plain": [
       "<coordinates[0x55987a5a3830] 0.329912 0.19999 0.0900931 / 4.58498e-07 -3.55449e-06 -4.75197e-06 1 >\n",
       "\n",
       "(True, 2)"
      ]
     },
     "execution_count": 47,
     "metadata": {},
     "output_type": "execute_result"
    }
   ],
   "source": [
    "tgt=robot.larm.endEffector\n",
    "tgt.translate(fv(0, 0, 0.04))\n",
    "robot.larm.inverseKinematics(tgt, constraint='xyzRPY')\n",
    "ri.sendAngleVector(robot.angleVector(), tm=1.0)\n",
    "ri.waitUntilFinish()"
   ]
  }
 ],
 "metadata": {
  "kernelspec": {
   "display_name": "Choreonoid",
   "language": "python",
   "name": "choreonoid"
  },
  "language_info": {
   "codemirror_mode": "",
   "file_extension": ".py",
   "mimetype": "text/x-python",
   "name": "python",
   "nbconvert_exporter": "",
   "pygments_lexer": "",
   "version": "3.7"
  },
  "name": "robot_move_sample.ipynb"
 },
 "nbformat": 4,
 "nbformat_minor": 5
}
