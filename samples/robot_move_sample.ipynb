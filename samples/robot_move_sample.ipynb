{
 "cells": [
  {
   "cell_type": "markdown",
   "id": "59c37e60-367d-468f-989c-a49181e5b4b3",
   "metadata": {},
   "source": [
    "# 標準モジュールインポート"
   ]
  },
  {
   "cell_type": "code",
   "execution_count": null,
   "id": "4e58604c-f0af-4016-a054-d3f58692b658",
   "metadata": {},
   "outputs": [],
   "source": [
    "exec(open('/choreonoid_ws/install/share/irsl_choreonoid/sample/irsl_import.py').read())"
   ]
  },
  {
   "cell_type": "markdown",
   "id": "389ec5e6-c7e9-4bab-b58b-420bc94860b6",
   "metadata": {},
   "source": [
    "# ロボットとの接続"
   ]
  },
  {
   "cell_type": "code",
   "execution_count": null,
   "id": "723c7e31-eabb-4cb0-8938-47002f029a07",
   "metadata": {},
   "outputs": [],
   "source": [
    "ri = RobotInterface('/myapps/models/kohaku_robotinterface.yaml')\n",
    "#ri = RobotInterface('/myapps/models/kohaku_robotinterface.yaml', connection=False)\n",
    "robot = ri.getRobotModel()"
   ]
  },
  {
   "cell_type": "markdown",
   "id": "1c2be7bb-9967-4fb5-ba61-574c65f96c11",
   "metadata": {},
   "source": [
    "# モデルを変更する"
   ]
  },
  {
   "cell_type": "code",
   "execution_count": null,
   "id": "c7078619-a02d-4a11-8624-a33dece66f54",
   "metadata": {},
   "outputs": [],
   "source": [
    "robot.setDefaultPose()"
   ]
  },
  {
   "cell_type": "markdown",
   "id": "e3cdac50-c4f2-4e09-9094-9cecf0144ea1",
   "metadata": {},
   "source": [
    "## 関節を動かす"
   ]
  },
  {
   "cell_type": "code",
   "execution_count": null,
   "id": "5d716e5a-814b-4ec8-a74b-c57c43319af2",
   "metadata": {},
   "outputs": [],
   "source": [
    "robot.jointNameList"
   ]
  },
  {
   "cell_type": "code",
   "execution_count": null,
   "id": "f397950a-6554-4ee1-8802-c50542ca820b",
   "metadata": {},
   "outputs": [],
   "source": [
    "robot.setJointAngle('wrist_3', 0.2)"
   ]
  },
  {
   "cell_type": "markdown",
   "id": "906ad449-ebc6-4a5c-9dff-6167c32972c0",
   "metadata": {},
   "source": [
    "## 片腕のみを動かす"
   ]
  },
  {
   "cell_type": "code",
   "execution_count": null,
   "id": "01df8e80-6f6f-48e7-850e-454b8a82be9c",
   "metadata": {},
   "outputs": [],
   "source": [
    "robot.larm.angleVector()"
   ]
  },
  {
   "cell_type": "code",
   "execution_count": null,
   "id": "57d70c88-ed7c-423a-9a94-f9cc0c6f49f6",
   "metadata": {},
   "outputs": [],
   "source": []
  },
  {
   "cell_type": "markdown",
   "id": "70efb92b-6874-4259-a469-1640b88ff075",
   "metadata": {},
   "source": [
    "## グリッパーを動かす"
   ]
  },
  {
   "cell_type": "code",
   "execution_count": null,
   "id": "6a354955-94f4-413c-aa92-5d2269de1f8c",
   "metadata": {},
   "outputs": [],
   "source": [
    "robot.lhand.angleVector()"
   ]
  },
  {
   "cell_type": "code",
   "execution_count": null,
   "id": "fe8fc2f9-84b7-4c61-91ae-5860b2947337",
   "metadata": {},
   "outputs": [],
   "source": [
    "robot.lhand.angleMap"
   ]
  },
  {
   "cell_type": "markdown",
   "id": "7a2ce2b6-9fbb-4e2f-8a9f-130d2b5a3c71",
   "metadata": {},
   "source": [
    "## 手先座標を指定して動かす"
   ]
  },
  {
   "cell_type": "code",
   "execution_count": null,
   "id": "cb4b2efe-5c90-4cd0-8f90-cc4b7b206943",
   "metadata": {},
   "outputs": [],
   "source": [
    "di=DrawInterface()"
   ]
  },
  {
   "cell_type": "code",
   "execution_count": null,
   "id": "d8166fa2-a475-4af5-ba03-b44f3e8634dd",
   "metadata": {},
   "outputs": [],
   "source": [
    "tgt=mkshapes.makeCoords(length=0.2)"
   ]
  },
  {
   "cell_type": "code",
   "execution_count": null,
   "id": "122c3767-0c56-4822-91ca-d99ec756cfb7",
   "metadata": {},
   "outputs": [],
   "source": [
    "tgt.newcoords(robot.larm.endEffector)"
   ]
  },
  {
   "cell_type": "code",
   "execution_count": null,
   "id": "1477b3a2-a186-41f8-8e33-160b2b864542",
   "metadata": {},
   "outputs": [],
   "source": [
    "di.addObject(tgt)"
   ]
  },
  {
   "cell_type": "code",
   "execution_count": null,
   "id": "0515fd2b-d908-451c-8b41-200c5fdd1ec1",
   "metadata": {},
   "outputs": [],
   "source": [
    "tgt.translate(npa[0, 0, 0.1], coordinates.wrt.world)"
   ]
  },
  {
   "cell_type": "code",
   "execution_count": null,
   "id": "f11ff836-6743-4007-8e3f-e923639c5e68",
   "metadata": {},
   "outputs": [],
   "source": [
    "robot.larm.inverseKinematics(tgt, constraint='xyzRPY')"
   ]
  },
  {
   "cell_type": "markdown",
   "id": "4478caec-1292-4a86-82f3-0d42cccf299c",
   "metadata": {},
   "source": [
    "# 実機（シミュレーション）を動かす"
   ]
  },
  {
   "cell_type": "code",
   "execution_count": null,
   "id": "a4634d21-d451-4a12-95f7-8974a48d33ce",
   "metadata": {},
   "outputs": [],
   "source": [
    "ri.sendAngleVector(robot.angleVector(), tm=5)\n",
    "ri.waitFinishMoving()"
   ]
  }
 ],
 "metadata": {
  "kernelspec": {
   "display_name": "Choreonoid",
   "language": "python",
   "name": "choreonoid"
  },
  "language_info": {
   "codemirror_mode": "",
   "file_extension": ".py",
   "mimetype": "text/x-python",
   "name": "python",
   "nbconvert_exporter": "",
   "pygments_lexer": "",
   "version": "3.7"
  }
 },
 "nbformat": 4,
 "nbformat_minor": 5
}
