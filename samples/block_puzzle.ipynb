{
 "cells": [
  {
   "cell_type": "markdown",
   "id": "6ae9905d-4ebb-419c-9930-9680b378595e",
   "metadata": {},
   "source": [
    "# ロボット(hr4c)でブロックをつかむ"
   ]
  },
  {
   "cell_type": "code",
   "execution_count": null,
   "id": "8e43ef14-6cd1-4750-ae3e-902fdd444962",
   "metadata": {},
   "outputs": [],
   "source": [
    "exec(open('/choreonoid_ws/install/share/irsl_choreonoid/sample/irsl_import.py').read())\n",
    "exec(open('/myapps/models/kohaku_robotinterface.py').read())\n",
    "from irsl_choreonoid_ros.setup_cnoid import SetupCnoid"
   ]
  },
  {
   "cell_type": "markdown",
   "id": "5211ba80-b230-41d8-bbc0-cb2cc1abcc5e",
   "metadata": {},
   "source": [
    "## ロボットモデルとインターフェースの準備\n",
    "\n",
    "- ロボットモデル ```_robot_```\n",
    "\n",
    "表示されるロボット\n",
    "  \n",
    "- インターフェース ```_ri_```\n",
    "\n",
    "実機と接続するためのインターフェース"
   ]
  },
  {
   "cell_type": "code",
   "execution_count": null,
   "id": "6b6a613d-1a38-4c11-98fc-dfc5371e0e96",
   "metadata": {},
   "outputs": [],
   "source": [
    "_ri_ = KohakuInterface('/myapps/models/kohaku_robotinterface.yaml')\n",
    "_robot_ = _ri_.getRobotModel()\n",
    "SetupCnoid.setEnvironmentFromYaml('package://irsl_sim_environments/cnoid/world/puzzle_blocks.yaml',\n",
    "                                  setCamera=False, offset=coordinates(fv(0.2,0,0.06)))"
   ]
  },
  {
   "cell_type": "markdown",
   "id": "46bfe9d4-92d6-4235-affa-aebe75a5f3aa",
   "metadata": {},
   "source": [
    "### デフォルトの姿勢設定"
   ]
  },
  {
   "cell_type": "code",
   "execution_count": null,
   "id": "2b1239e8-2f86-4a74-9c0e-9489582e3af8",
   "metadata": {},
   "outputs": [],
   "source": [
    "_robot_.setManipPose()"
   ]
  },
  {
   "cell_type": "markdown",
   "id": "e53ce2d5-ffa4-43ef-959d-2ed02268377a",
   "metadata": {},
   "source": [
    "### ブロックの位置変数\n",
    "\n",
    "ここでは、ブロックの位置を既知のものとしている"
   ]
  },
  {
   "cell_type": "code",
   "execution_count": null,
   "id": "9fd32c2b-7c7c-4188-af8f-cb1cb5dc9557",
   "metadata": {},
   "outputs": [],
   "source": [
    "base_offset_pos = fv(0.2, 0, 0.06)\n",
    "#\n",
    "org_cyan_pos   = fv(-0.03, -0.13, 0.016)\n",
    "org_purple_pos = fv( 0.13,  0.00, 0.046)\n",
    "org_yellow_pos = fv( 0.13, -0.10, 0.076)\n",
    "org_red_pos    = fv(-0.06,  0.10, 0.016)\n",
    "org_lightgreen_pos = fv(0.13,  0.13, 0.016)\n",
    "org_green_pos  = fv(0.03,  0.185, 0.046)\n",
    "org_brown_pos  = fv(0.03, -0.20, 0.046)"
   ]
  },
  {
   "cell_type": "markdown",
   "id": "00fdf050-1a08-4b0c-84cf-a764b269d28d",
   "metadata": {},
   "source": [
    "## 関数設定\n",
    "### アプローチ関数"
   ]
  },
  {
   "cell_type": "code",
   "execution_count": null,
   "id": "78f5b0c0-8ebd-447c-9a18-86739a731ebd",
   "metadata": {},
   "outputs": [],
   "source": [
    "def approach(org_pos, base_offset_pos=fv(0,0,0), approach_dir=fv(0,0,0.04), arm='right',\n",
    "             local_offset_pos = None, target_quat=None, tm1=3.0, tm2=1.0, wait=True):\n",
    "    target_pos = org_pos + base_offset_pos\n",
    "    if local_offset_pos is not None:\n",
    "        target_pos += local_offset_pos\n",
    "    ##\n",
    "    tgt2 = coordinates(target_pos)\n",
    "    if target_quat is not None:\n",
    "        tgt2.quaternion = target_quat\n",
    "    ##\n",
    "    tgt1 = tgt2.copy()\n",
    "    tgt1.translate(approach_dir, coordinates.wrt.world)\n",
    "    ##\n",
    "    if arm == 'right' or arm == 'rarm':\n",
    "        res_, cntr_ = _robot_.rarm.inverseKinematics(tgt2, constraint='xyzRPY')\n",
    "    else:\n",
    "        res_, cntr_ = _robot_.larm.inverseKinematics(tgt2, constraint='xyzRPY')\n",
    "    ##\n",
    "    ret = False\n",
    "    if res_:\n",
    "        v2 = _robot_.angleVector()\n",
    "        if arm == 'right' or arm == 'rarm':\n",
    "            res_, cntr_ = _robot_.rarm.inverseKinematics(tgt1, constraint='xyzRPY')\n",
    "        else:\n",
    "            res_, cntr_ = _robot_.larm.inverseKinematics(tgt1, constraint='xyzRPY')\n",
    "        if res_:\n",
    "            v1 = _robot_.angleVector()\n",
    "            _ri_.sendAngleVectorSequence( [v1, v2], [tm1, tm2] , wait=True, waitTimeout=15.0)\n",
    "            ret = True\n",
    "        else:\n",
    "            pass\n",
    "    else:\n",
    "        pass\n",
    "    return ret"
   ]
  },
  {
   "cell_type": "markdown",
   "id": "4cf809b9-ea97-440e-8249-27960251c43c",
   "metadata": {},
   "source": [
    "### ハンドを使う関数"
   ]
  },
  {
   "cell_type": "code",
   "execution_count": null,
   "id": "2ccc20af-00d8-485e-995a-d1af6f180013",
   "metadata": {},
   "outputs": [],
   "source": [
    "def _hand_and_move(up_dir, arm='right', tm=1.0, grasp=True, grasp_param=None, wait=True):\n",
    "    if grasp:\n",
    "        _ri_.grasp(arm, **grasp_param)\n",
    "    else:\n",
    "        _ri_.ungrasp(arm, **grasp_param)\n",
    "    ##\n",
    "    if arm == 'right' or arm == 'rarm':\n",
    "        tgt = _robot_.rarm.endEffector\n",
    "    else:\n",
    "        tgt = _robot_.larm.endEffector\n",
    "    ##\n",
    "    tgt.translate(up_dir, coordinates.wrt.world)\n",
    "    if arm == 'right' or arm == 'rarm':\n",
    "        res_, cntr_ = _robot_.rarm.inverseKinematics(tgt, constraint='xyzRPY')\n",
    "    else:\n",
    "        res_, cntr_ = _robot_.larm.inverseKinematics(tgt, constraint='xyzRPY')\n",
    "    ret = False\n",
    "    if res_:\n",
    "        _ri_.sendAngleVector(_robot_.angleVector(), tm, wait=wait, waitTimeout=15.0)\n",
    "        ret = True\n",
    "    else:\n",
    "        pass\n",
    "    return ret\n",
    "\n",
    "def pick_up(up_dir, arm='right', tm=1.0, angle=-0.05, wait=True):\n",
    "    _hand_and_move(up_dir, arm=arm, tm=tm, grasp=True, grasp_param={'position': angle, 'wait': True}, wait=wait)\n",
    "\n",
    "def place(up_dir, arm='right', tm=1.0, angle=0.6, wait=True):\n",
    "    _hand_and_move(up_dir, arm=arm, tm=tm, grasp=True, grasp_param={'position': angle, 'wait': True}, wait=wait)"
   ]
  },
  {
   "cell_type": "markdown",
   "id": "807f153b-829e-4e7a-a05b-82b86ca878e2",
   "metadata": {},
   "source": [
    "## ブロックをつかむ、配置する"
   ]
  },
  {
   "cell_type": "code",
   "execution_count": null,
   "id": "5bfddf1c-f325-46c0-86e1-c28115f0c471",
   "metadata": {},
   "outputs": [],
   "source": [
    "l_o_p=fv(0, 0, 0.012)\n",
    "app_dir=fv(0, 0, 0.04)"
   ]
  },
  {
   "cell_type": "markdown",
   "id": "6eea0e16-b813-4634-8faa-5fff71e36ad7",
   "metadata": {},
   "source": [
    "### ブロック（水色）をつかむ\n",
    "- 最初の引数\n",
    "\n",
    "対象の位置\n",
    "\n",
    "- arm\n",
    "\n",
    "使用する腕\n",
    "\n",
    "- local_offset_pos\n",
    "\n",
    "ローカルな修正\n",
    "\n",
    "- approach_dir\n",
    "\n",
    "アプローチの方向\n",
    "\n",
    "- base_offset_pos"
   ]
  },
  {
   "cell_type": "code",
   "execution_count": null,
   "id": "3ce94706-4d2e-446a-842e-af14e053e50b",
   "metadata": {},
   "outputs": [],
   "source": [
    "approach(org_cyan_pos, base_offset_pos=base_offset_pos, local_offset_pos=l_o_p, approach_dir=app_dir, arm='right')\n",
    "pick_up(app_dir, arm='right')"
   ]
  },
  {
   "cell_type": "markdown",
   "id": "cc5d00ae-662d-4dfa-8d99-240e6e36be44",
   "metadata": {},
   "source": [
    "### ブロック（水色）を置く\n",
    "\n",
    "現状ではつかんだ位置にそのまま置いていますが、位置を変えて置いてブロックを完成させてください"
   ]
  },
  {
   "cell_type": "code",
   "execution_count": null,
   "id": "b1a06674-eafc-4eaf-81ed-6c5d55bd8c34",
   "metadata": {},
   "outputs": [],
   "source": [
    "approach(org_cyan_pos, base_offset_pos=base_offset_pos, local_offset_pos=l_o_p, approach_dir=app_dir, arm='right')\n",
    "place(app_dir, arm='right')"
   ]
  },
  {
   "cell_type": "markdown",
   "id": "eab9e0cb-a376-4cbd-b364-e5a5d57a83ba",
   "metadata": {},
   "source": [
    "### ブロック（茶色）をつかむ"
   ]
  },
  {
   "cell_type": "code",
   "execution_count": null,
   "id": "16a76abe-9c6a-414f-b753-b50f2929fce0",
   "metadata": {},
   "outputs": [],
   "source": [
    "approach(org_brown_pos, base_offset_pos=base_offset_pos, local_offset_pos=l_o_p, approach_dir=app_dir, arm='right')\n",
    "pick_up(app_dir, arm='right')"
   ]
  },
  {
   "cell_type": "markdown",
   "id": "4391ca95-eba5-4f4e-8346-cd01cb8b5619",
   "metadata": {},
   "source": [
    "### ブロック（茶色）を置く"
   ]
  },
  {
   "cell_type": "code",
   "execution_count": null,
   "id": "e4693d59-1fef-4d14-acc6-55014405a178",
   "metadata": {},
   "outputs": [],
   "source": [
    "approach(org_brown_pos, base_offset_pos=base_offset_pos, local_offset_pos=l_o_p, approach_dir=app_dir, arm='right')\n",
    "place(app_dir, arm='right')"
   ]
  },
  {
   "cell_type": "markdown",
   "id": "8e47b0fa-e6b3-48ba-8abf-105d40d83fb9",
   "metadata": {},
   "source": [
    "### ブロック（黄色）をつかむ"
   ]
  },
  {
   "cell_type": "code",
   "execution_count": null,
   "id": "6ca4b246-7260-4063-af9c-3c128bffd017",
   "metadata": {},
   "outputs": [],
   "source": [
    "approach(org_yellow_pos, base_offset_pos=base_offset_pos, local_offset_pos=l_o_p, approach_dir=app_dir, arm='right')\n",
    "pick_up(app_dir, arm='right')"
   ]
  },
  {
   "cell_type": "markdown",
   "id": "986e737a-869c-457b-bbad-36e1906dd893",
   "metadata": {},
   "source": [
    "### ブロック（黄色）を置く"
   ]
  },
  {
   "cell_type": "code",
   "execution_count": null,
   "id": "f169abd6-7d56-4c0d-a8c1-ec3252e4d69f",
   "metadata": {},
   "outputs": [],
   "source": [
    "approach(org_yellow_pos, base_offset_pos=base_offset_pos, local_offset_pos=l_o_p, approach_dir=app_dir, arm='right')\n",
    "place(app_dir, arm='right')"
   ]
  },
  {
   "cell_type": "markdown",
   "id": "6de2eb08-fecf-422d-abce-a32ef72ddb99",
   "metadata": {},
   "source": [
    "### ブロック（赤色）をつかむ"
   ]
  },
  {
   "cell_type": "code",
   "execution_count": null,
   "id": "b8f6cccd-3a24-43b0-a65b-446159340836",
   "metadata": {},
   "outputs": [],
   "source": [
    "approach(org_red_pos, base_offset_pos=base_offset_pos, local_offset_pos=l_o_p, approach_dir=app_dir, arm='left')\n",
    "pick_up(app_dir, arm='left')"
   ]
  },
  {
   "cell_type": "markdown",
   "id": "b65c46fa-54ee-462e-a725-41b0a427febb",
   "metadata": {},
   "source": [
    "### ブロック（赤色）を置く"
   ]
  },
  {
   "cell_type": "code",
   "execution_count": null,
   "id": "174aa898-9c1c-4b27-89a5-eae114b60142",
   "metadata": {},
   "outputs": [],
   "source": [
    "approach(org_red_pos, base_offset_pos=base_offset_pos, local_offset_pos=l_o_p, approach_dir=app_dir, arm='left')\n",
    "place(app_dir, arm='left')"
   ]
  },
  {
   "cell_type": "markdown",
   "id": "578c7419-5fd9-401e-8ba6-14b1b7fcd353",
   "metadata": {},
   "source": [
    "### ブロック（緑色）をつかむ\n",
    "\n",
    "このブロックは、幅が広いのでハンドのつかむ幅を変えています"
   ]
  },
  {
   "cell_type": "code",
   "execution_count": null,
   "id": "f140e060-9ed6-4feb-887a-c570e99d83c6",
   "metadata": {},
   "outputs": [],
   "source": [
    "_ri_.grasp('left', position=0.9)\n",
    "approach(org_green_pos, base_offset_pos=base_offset_pos, local_offset_pos=l_o_p, approach_dir=app_dir, arm='left')\n",
    "pick_up(app_dir, arm='left', angle=0.3)"
   ]
  },
  {
   "cell_type": "markdown",
   "id": "b02fb748-269f-4b0a-af93-6dda504e908f",
   "metadata": {},
   "source": [
    "### ブロック（緑色）を置く"
   ]
  },
  {
   "cell_type": "code",
   "execution_count": null,
   "id": "bdb2a8fa-0f5f-49cc-a42b-4296c6ae3766",
   "metadata": {},
   "outputs": [],
   "source": [
    "approach(org_green_pos, base_offset_pos=base_offset_pos, local_offset_pos=l_o_p, approach_dir=app_dir, arm='left')\n",
    "place(app_dir, arm='left', angle=0.9)"
   ]
  },
  {
   "cell_type": "markdown",
   "id": "ec68f6b2-49ac-47ab-95f1-aace5f0b823a",
   "metadata": {},
   "source": [
    "### ブロック（黄緑色）をつかむ\n",
    "\n",
    "このブロックは他のブロックと違う手先の回転でつかむため、パラメータを与えています。\n",
    "\n",
    "```target_quat=fv(0, 0, math.sqrt(0.5), math.sqrt(0.5))```"
   ]
  },
  {
   "cell_type": "code",
   "execution_count": null,
   "id": "4e745e1f-ee3d-4652-9c7d-4bbeb4252e7c",
   "metadata": {},
   "outputs": [],
   "source": [
    "approach(org_lightgreen_pos, base_offset_pos=base_offset_pos, target_quat=fv(0, 0, math.sqrt(0.5), math.sqrt(0.5)),\n",
    "         local_offset_pos=l_o_p, approach_dir=app_dir, arm='left')\n",
    "pick_up(app_dir, arm='left')"
   ]
  },
  {
   "cell_type": "markdown",
   "id": "06eece21-702d-4ec9-bdee-40217d20b037",
   "metadata": {},
   "source": [
    "### ブロック（黄緑色）を置く"
   ]
  },
  {
   "cell_type": "code",
   "execution_count": null,
   "id": "cb7af15f-c780-4e0c-a5fa-155a8cf31548",
   "metadata": {},
   "outputs": [],
   "source": [
    "approach(org_lightgreen_pos, base_offset_pos=base_offset_pos, target_quat=fv(0, 0, math.sqrt(0.5), math.sqrt(0.5)),\n",
    "         local_offset_pos=l_o_p, approach_dir=app_dir, arm='left')\n",
    "place(app_dir, arm='left')"
   ]
  },
  {
   "cell_type": "markdown",
   "id": "a2baa3f5-2f6d-4473-a759-c5f99b665e8c",
   "metadata": {},
   "source": [
    "### ブロック（紫色）をつかむ"
   ]
  },
  {
   "cell_type": "code",
   "execution_count": null,
   "id": "c822a07f-8264-45e4-944f-91e8b98ae0e0",
   "metadata": {},
   "outputs": [],
   "source": [
    "approach(org_purple_pos, base_offset_pos=base_offset_pos, local_offset_pos=l_o_p, approach_dir=app_dir, arm='left')\n",
    "pick_up(app_dir, arm='left')"
   ]
  },
  {
   "cell_type": "markdown",
   "id": "412e2401-bd70-4939-8cf2-cbef86608647",
   "metadata": {},
   "source": [
    "### ブロック（紫色）を置く"
   ]
  },
  {
   "cell_type": "code",
   "execution_count": null,
   "id": "38ba661d-4e1a-4f85-8dd1-8658ab941040",
   "metadata": {},
   "outputs": [],
   "source": [
    "approach(org_purple_pos, base_offset_pos=base_offset_pos, local_offset_pos=l_o_p, approach_dir=app_dir, arm='left')\n",
    "place(app_dir, arm='left')"
   ]
  }
 ],
 "metadata": {
  "kernelspec": {
   "display_name": "Choreonoid",
   "language": "python",
   "name": "choreonoid"
  },
  "language_info": {
   "codemirror_mode": "",
   "file_extension": ".py",
   "mimetype": "text/x-python",
   "name": "python",
   "nbconvert_exporter": "",
   "pygments_lexer": "",
   "version": "3.7"
  }
 },
 "nbformat": 4,
 "nbformat_minor": 5
}
